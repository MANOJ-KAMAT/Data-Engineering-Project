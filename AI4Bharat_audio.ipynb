{
 "cells": [
  {
   "cell_type": "markdown",
   "metadata": {},
   "source": [
    "## Download Audios from Video"
   ]
  },
  {
   "cell_type": "code",
   "execution_count": 1,
   "metadata": {},
   "outputs": [
    {
     "name": "stdout",
     "output_type": "stream",
     "text": [
      "[generic] mod01lec01: Requesting header\n",
      "[download] Destination: C:\\Users\\MANOJ\\Desktop\\AI4B\\mod01lec01.mp4\n",
      "[download] 100% of 257.24MiB in 00:14                    \n",
      "[ffmpeg] Destination: C:\\Users\\MANOJ\\Desktop\\AI4B\\mod01lec01.wav\n",
      "Deleting original file C:\\Users\\MANOJ\\Desktop\\AI4B\\mod01lec01.mp4 (pass -k to keep)\n"
     ]
    }
   ],
   "source": [
    "import youtube_dl\n",
    "\n",
    "nptel_deep_learning_course_url = \"https://archive.nptel.ac.in/content//storage2/106/106/106106184/MP4/mod01lec01.mp4\"\n",
    "\n",
    "ydl_opts = {\n",
    "    'format': 'bestaudio/best',\n",
    "    'outtmpl': 'C:/Users/MANOJ/Desktop/AI4B/%(title)s.%(ext)s',\n",
    "    'postprocessors': [{\n",
    "        'key': 'FFmpegExtractAudio',\n",
    "        'preferredcodec': 'wav',\n",
    "        'preferredquality': '192',\n",
    "    }],\n",
    "}\n",
    "\n",
    "with youtube_dl.YoutubeDL(ydl_opts) as ydl:\n",
    "    ydl.download([nptel_deep_learning_course_url])"
   ]
  },
  {
   "cell_type": "code",
   "execution_count": null,
   "metadata": {},
   "outputs": [],
   "source": []
  }
 ],
 "metadata": {
  "kernelspec": {
   "display_name": "Python 3",
   "language": "python",
   "name": "python3"
  },
  "language_info": {
   "codemirror_mode": {
    "name": "ipython",
    "version": 3
   },
   "file_extension": ".py",
   "mimetype": "text/x-python",
   "name": "python",
   "nbconvert_exporter": "python",
   "pygments_lexer": "ipython3",
   "version": "3.8.5"
  }
 },
 "nbformat": 4,
 "nbformat_minor": 4
}
