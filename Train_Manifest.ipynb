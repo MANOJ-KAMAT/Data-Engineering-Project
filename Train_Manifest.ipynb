{
 "cells": [
  {
   "cell_type": "markdown",
   "metadata": {},
   "source": [
    "Import the required packages"
   ]
  },
  {
   "cell_type": "code",
   "execution_count": 1,
   "metadata": {},
   "outputs": [],
   "source": [
    "import os\n",
    "import json\n",
    "from pydub import AudioSegment"
   ]
  },
  {
   "cell_type": "markdown",
   "metadata": {},
   "source": [
    "Function to create a training manifest file"
   ]
  },
  {
   "cell_type": "code",
   "execution_count": 5,
   "metadata": {},
   "outputs": [],
   "source": [
    "# Path to the audio folder\n",
    "audio_folder = r\"C:\\Users\\MANOJ\\Desktop\\AI4B\\aud\"\n",
    "\n",
    "# Path to the transcript folder\n",
    "transcript_folder = r\"C:\\Users\\MANOJ\\Desktop\\AI4B\\trans\"\n",
    "\n",
    "# List of dictionaries containing information for each line\n",
    "train_manifest = []\n",
    "\n",
    "def get_audio_duration(audio_filepath):\n",
    "    audio = AudioSegment.from_file(audio_filepath)\n",
    "    return len(audio) / 1000\n",
    "\n",
    "# Loop through each audio file in the audio folder\n",
    "for audio_filename in os.listdir(audio_folder):\n",
    "    audio_filepath = os.path.join(audio_folder, audio_filename)\n",
    "    transcript_filepath = os.path.join(transcript_folder, os.path.splitext(audio_filename)[0] + \".txt\")\n",
    "    \n",
    "    # Read the transcript file\n",
    "    with open(transcript_filepath, \"r\") as f:\n",
    "        transcript = f.read()\n",
    "    \n",
    "    # Get the duration of the audio file\n",
    "    duration = get_audio_duration(audio_filepath)\n",
    "    \n",
    "    # Add the information to the list of dictionaries\n",
    "    train_manifest.append({\n",
    "        \"audio_filepath\": audio_filepath,\n",
    "        \"duration\": duration,\n",
    "        \"text\": transcript\n",
    "    })\n"
   ]
  },
  {
   "cell_type": "markdown",
   "metadata": {},
   "source": [
    "Write content to di"
   ]
  },
  {
   "cell_type": "code",
   "execution_count": 6,
   "metadata": {},
   "outputs": [],
   "source": [
    "# Write each dictionary as a separate line in the file\n",
    "with open(\"train_manifest.jsonl\", \"w\") as f:\n",
    "    for line in train_manifest:\n",
    "        f.write(json.dumps(line) + \"\\n\")"
   ]
  }
 ],
 "metadata": {
  "kernelspec": {
   "display_name": "Python 3",
   "language": "python",
   "name": "python3"
  },
  "language_info": {
   "codemirror_mode": {
    "name": "ipython",
    "version": 3
   },
   "file_extension": ".py",
   "mimetype": "text/x-python",
   "name": "python",
   "nbconvert_exporter": "python",
   "pygments_lexer": "ipython3",
   "version": "3.8.5"
  }
 },
 "nbformat": 4,
 "nbformat_minor": 4
}
