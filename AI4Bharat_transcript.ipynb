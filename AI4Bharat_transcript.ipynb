{
 "cells": [
  {
   "cell_type": "markdown",
   "metadata": {},
   "source": [
    "Import the required packages"
   ]
  },
  {
   "cell_type": "code",
   "execution_count": 1,
   "metadata": {},
   "outputs": [],
   "source": [
    "import requests\n",
    "import re\n",
    "import io\n",
    "import os\n",
    "import PyPDF2\n",
    "from selenium import webdriver\n",
    "from selenium.webdriver.support.ui import WebDriverWait\n",
    "from selenium.webdriver.support import expected_conditions as EC\n",
    "from selenium.webdriver.common.by import By"
   ]
  },
  {
   "cell_type": "markdown",
   "metadata": {},
   "source": [
    "Function to get the download link of transcript"
   ]
  },
  {
   "cell_type": "code",
   "execution_count": 2,
   "metadata": {},
   "outputs": [],
   "source": [
    "def download_transcript(course_url):\n",
    "    driver = webdriver.Chrome()\n",
    "    driver.get(course_url)\n",
    "    wait = WebDriverWait(driver, 10)\n",
    "    # Go to Downloads pane\n",
    "    downloads_tab = wait.until(EC.element_to_be_clickable((By.XPATH, \"//span[@class='tab'][contains(text(), 'downloads')]\")))\n",
    "    downloads_tab.click()\n",
    "    # Click on Transcripts\n",
    "    transcript_option = wait.until(EC.element_to_be_clickable((By.XPATH, \"//div[@class='assignments download-type']//h3[text()='Transcripts']\")))\n",
    "    transcript_option.click()\n",
    "    # CSS selectors to select language\n",
    "    language_dropdown = wait.until(EC.presence_of_element_located((By.CSS_SELECTOR, \"app-nptel-dropdown .pseudo-input\")))\n",
    "    language_dropdown.click()\n",
    "    language_options = wait.until(EC.presence_of_all_elements_located((By.CSS_SELECTOR, \"app-nptel-dropdown .pseudo-options li\")))\n",
    "    # Select the \"English-Verified\" option\n",
    "    for option in language_options:\n",
    "        if option.text == \"English-Verified\":\n",
    "            option.click()\n",
    "            break\n",
    "    # Wait for the download link to become clickable\n",
    "    download_link = driver.find_element(\"xpath\",\"//a[contains(@href, 'drive.google.com')]\")\n",
    "    # Get the URL of the download link\n",
    "    download_url = download_link.get_attribute(\"href\")\n",
    "    return download_url"
   ]
  },
  {
   "cell_type": "markdown",
   "metadata": {},
   "source": [
    "Function to obtain the file ID to process the PDF"
   ]
  },
  {
   "cell_type": "code",
   "execution_count": 3,
   "metadata": {},
   "outputs": [],
   "source": [
    "def extract_file_id(download_url):\n",
    "    '''Extracts the file id from a Google Drive URL\n",
    "    \n",
    "    Arguments:\n",
    "    drive_url -- the URL of the Google Drive file\n",
    "    \n",
    "    Returns:\n",
    "    The unique identifier of the file\n",
    "    '''\n",
    "    # Split the URL by '/' to obtain the file id\n",
    "    file_id = download_url.split(\"/\")[-2]\n",
    "    return file_id"
   ]
  },
  {
   "cell_type": "markdown",
   "metadata": {},
   "source": [
    "Function to scrape the PDF from google drive and save it in .txt file."
   ]
  },
  {
   "cell_type": "code",
   "execution_count": 4,
   "metadata": {},
   "outputs": [],
   "source": [
    "def scrape_pdf_from_google_drive(file_id, save_path=None):\n",
    "    '''Scrapes text from a PDF in Google Drive without downloading it.\n",
    "    \n",
    "    Arguments:\n",
    "    file_id -- the unique identifier of the PDF file in Google Drive\n",
    "    \n",
    "    Returns:\n",
    "    The text content of the PDF file\n",
    "    '''\n",
    "    # Replace file_id in the URL to obtain the direct download URL of the PDF file\n",
    "    pdf_url = f\"https://drive.google.com/u/0/uc?id={file_id}\"\n",
    "\n",
    "    # Get the content of the PDF file\n",
    "    response = requests.get(pdf_url)\n",
    "    content = response.content\n",
    "    \n",
    "    # Wrap the content in a BytesIO object\n",
    "    pdf_file = io.BytesIO(content)\n",
    "    \n",
    "    # Read the content into a PyPDF2 PDF object\n",
    "    pdf_reader = PyPDF2.PdfReader(pdf_file)\n",
    "    \n",
    "    # Extract the text from the first `num_pages` pages\n",
    "    pages = [page.extract_text() for page in pdf_reader.pages]\n",
    "    pdf_content = \"\\n\".join(pages)   \n",
    "    # Return the text content of the PDF file\n",
    "    # return content.decode(\"latin-1\")\n",
    "    \n",
    "    if save_path:\n",
    "        file_name = file_id\n",
    "        save_path = os.path.join(save_path, file_name + \".txt\")\n",
    "        with open(save_path, \"w\") as f:\n",
    "            f.write(pdf_content)\n",
    "    \n",
    "    return pdf_content"
   ]
  },
  {
   "cell_type": "markdown",
   "metadata": {},
   "source": [
    "Calling the Function"
   ]
  },
  {
   "cell_type": "code",
   "execution_count": 5,
   "metadata": {},
   "outputs": [
    {
     "name": "stdout",
     "output_type": "stream",
     "text": [
      "Course URL: https://nptel.ac.in/courses/106106184\n",
      "File Name :  1wuZcBU6ZkRI9QEOFIbDJjjEPcmiNBPZU\n"
     ]
    }
   ],
   "source": [
    "# Call the functions\n",
    "course_url = input(\"Course URL: \")\n",
    "download_url = download_transcript(course_url)\n",
    "file_id = extract_file_id(download_url)\n",
    "print(\"File Name : \",file_id)\n",
    "pdf_content = scrape_pdf_from_google_drive(file_id, save_path=\"C:/Users/MANOJ/Desktop/AI4B/\")"
   ]
  },
  {
   "cell_type": "code",
   "execution_count": 6,
   "metadata": {
    "scrolled": true
   },
   "outputs": [
    {
     "name": "stdout",
     "output_type": "stream",
     "text": [
      "Text processing complete!\n"
     ]
    }
   ],
   "source": [
    "import string\n",
    "from num2words import num2words\n",
    "\n",
    "# Define the path to the txt file\n",
    "file_path = r\"C:/Users/MANOJ/Desktop/AI4B/1wuZcBU6ZkRI9QEOFIbDJjjEPcmiNBPZU.txt\"\n",
    "\n",
    "# Read the text from the file\n",
    "with open(file_path, \"r\") as file:\n",
    "    lines = file.readlines()\n",
    "\n",
    "# First 5 lines of the transcript file doesn't any contains words which are spoken.\n",
    "# So, we have removed those lines.\n",
    "text = ''.join(lines[5:])\n",
    "\n",
    "# Convert all text to lowercase\n",
    "text = text.lower()\n",
    "\n",
    "# Remove all punctuations\n",
    "text = text.translate(str.maketrans(\"\", \"\", string.punctuation))\n",
    "\n",
    "# Split the text into words\n",
    "words = text.split()\n",
    "\n",
    "# Replace all digits with their spoken form\n",
    "for i in range(len(words)):\n",
    "    if words[i].isdigit():\n",
    "        words[i] = num2words(int(words[i]))\n",
    "\n",
    "# Join the words back into a sentence\n",
    "text = \" \".join(words)\n",
    "\n",
    "# Write the modified text back to the file\n",
    "with open(file_path, \"w\") as file:\n",
    "    file.write(text)\n",
    "\n",
    "print(\"Text processing complete!\")"
   ]
  },
  {
   "cell_type": "code",
   "execution_count": null,
   "metadata": {},
   "outputs": [],
   "source": []
  }
 ],
 "metadata": {
  "kernelspec": {
   "display_name": "Python 3",
   "language": "python",
   "name": "python3"
  },
  "language_info": {
   "codemirror_mode": {
    "name": "ipython",
    "version": 3
   },
   "file_extension": ".py",
   "mimetype": "text/x-python",
   "name": "python",
   "nbconvert_exporter": "python",
   "pygments_lexer": "ipython3",
   "version": "3.8.5"
  }
 },
 "nbformat": 4,
 "nbformat_minor": 4
}
